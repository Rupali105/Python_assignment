{
 "cells": [
  {
   "cell_type": "markdown",
   "id": "5864c14f",
   "metadata": {},
   "source": [
    "# PYTHON PROGRAMMING ASSIGNMENT"
   ]
  },
  {
   "cell_type": "markdown",
   "id": "3fda407c",
   "metadata": {},
   "source": [
    "# Exercise 1 Prime Number\n",
    "\n",
    "Write a Python program that checks whether a given number is prime or not. A prime number is a natural number greater than 1 that has no positive divisors other than 1 and itself."
   ]
  },
  {
   "cell_type": "code",
   "execution_count": 8,
   "id": "e5d77d47",
   "metadata": {},
   "outputs": [],
   "source": [
    "import pandas as pd\n",
    "import numpy as np\n",
    "import random"
   ]
  },
  {
   "cell_type": "code",
   "execution_count": 7,
   "id": "90975cd0",
   "metadata": {},
   "outputs": [
    {
     "name": "stdout",
     "output_type": "stream",
     "text": [
      "Enter a number: 67\n",
      "67 is a prime number\n"
     ]
    }
   ],
   "source": [
    "num = int(input(\"Enter a number: \"))\n",
    "if num > 1:\n",
    "    # Iterate from 2 to n // 2\n",
    "    for i in range(2, (num//2)+1):\n",
    "        # If num is divisible by any number between\n",
    "        # 2 and n / 2, it is not prime\n",
    "        if (num % i) == 0:\n",
    "            print(num, \"is not a prime number\")\n",
    "            break\n",
    "    else:\n",
    "        print(num, \"is a prime number\")\n",
    "else:\n",
    "    print(num, \"is not a prime number\")"
   ]
  },
  {
   "cell_type": "markdown",
   "id": "503be025",
   "metadata": {},
   "source": [
    "# Exercise 2: Product of Random Numbers"
   ]
  },
  {
   "cell_type": "markdown",
   "id": "f1af66ee",
   "metadata": {},
   "source": [
    "Develop a Python program that generates two random numbers and asks the user to enter the product of these numbers. \n",
    "The program should then check if the user's answer is correct and display an appropriate message."
   ]
  },
  {
   "cell_type": "code",
   "execution_count": 10,
   "id": "01a686d1",
   "metadata": {},
   "outputs": [
    {
     "name": "stdout",
     "output_type": "stream",
     "text": [
      "What is the product of 5 and 9? 45\n",
      "Correct! Well done.\n"
     ]
    }
   ],
   "source": [
    "\n",
    "def generate_random_numbers(lower_bound, upper_bound):\n",
    "    \"\"\"Generate two random numbers within a specified range.\"\"\"\n",
    "    num1 = random.randint(lower_bound, upper_bound)\n",
    "    num2 = random.randint(lower_bound, upper_bound)\n",
    "    return num1, num2\n",
    "\n",
    "def main():\n",
    "    lower_bound = 1  # You can adjust the range as needed\n",
    "    upper_bound = 10\n",
    "\n",
    "    # Generate two random numbers\n",
    "    num1, num2 = generate_random_numbers(lower_bound, upper_bound)\n",
    "    correct_product = num1 * num2\n",
    "\n",
    "    # Prompt the user to enter the product\n",
    "    user_input = input(f\"What is the product of {num1} and {num2}? \")\n",
    "\n",
    "    try:\n",
    "        user_product = int(user_input)\n",
    "\n",
    "        # Check if the user's answer is correct\n",
    "        if user_product == correct_product:\n",
    "            print(\"Correct! Well done.\")\n",
    "        else:\n",
    "            print(f\"Incorrect. The correct product is {correct_product}.\")\n",
    "    except ValueError:\n",
    "        print(\"Invalid input. Please enter a numerical value.\")\n",
    "\n",
    "if __name__ == \"__main__\":\n",
    "    main()"
   ]
  },
  {
   "cell_type": "markdown",
   "id": "da903419",
   "metadata": {},
   "source": [
    "# Exercise 3: Squares of Even/Odd Numbers"
   ]
  },
  {
   "cell_type": "markdown",
   "id": "f2f2ebfd",
   "metadata": {},
   "source": [
    "Create a Python script that prints the squares of all even or odd numbers within the range of 100 to 200. \n",
    "Choose either even or odd numbers and document your choice in the code."
   ]
  },
  {
   "cell_type": "markdown",
   "id": "16d00dd2",
   "metadata": {},
   "source": [
    "Here I am writing the program for all even numbers"
   ]
  },
  {
   "cell_type": "code",
   "execution_count": 11,
   "id": "1e87698b",
   "metadata": {},
   "outputs": [
    {
     "name": "stdout",
     "output_type": "stream",
     "text": [
      "The square of 100 is 10000\n",
      "The square of 102 is 10404\n",
      "The square of 104 is 10816\n",
      "The square of 106 is 11236\n",
      "The square of 108 is 11664\n",
      "The square of 110 is 12100\n",
      "The square of 112 is 12544\n",
      "The square of 114 is 12996\n",
      "The square of 116 is 13456\n",
      "The square of 118 is 13924\n",
      "The square of 120 is 14400\n",
      "The square of 122 is 14884\n",
      "The square of 124 is 15376\n",
      "The square of 126 is 15876\n",
      "The square of 128 is 16384\n",
      "The square of 130 is 16900\n",
      "The square of 132 is 17424\n",
      "The square of 134 is 17956\n",
      "The square of 136 is 18496\n",
      "The square of 138 is 19044\n",
      "The square of 140 is 19600\n",
      "The square of 142 is 20164\n",
      "The square of 144 is 20736\n",
      "The square of 146 is 21316\n",
      "The square of 148 is 21904\n",
      "The square of 150 is 22500\n",
      "The square of 152 is 23104\n",
      "The square of 154 is 23716\n",
      "The square of 156 is 24336\n",
      "The square of 158 is 24964\n",
      "The square of 160 is 25600\n",
      "The square of 162 is 26244\n",
      "The square of 164 is 26896\n",
      "The square of 166 is 27556\n",
      "The square of 168 is 28224\n",
      "The square of 170 is 28900\n",
      "The square of 172 is 29584\n",
      "The square of 174 is 30276\n",
      "The square of 176 is 30976\n",
      "The square of 178 is 31684\n",
      "The square of 180 is 32400\n",
      "The square of 182 is 33124\n",
      "The square of 184 is 33856\n",
      "The square of 186 is 34596\n",
      "The square of 188 is 35344\n",
      "The square of 190 is 36100\n",
      "The square of 192 is 36864\n",
      "The square of 194 is 37636\n",
      "The square of 196 is 38416\n",
      "The square of 198 is 39204\n",
      "The square of 200 is 40000\n"
     ]
    }
   ],
   "source": [
    "#we will use function\n",
    "def print_squares_of_even_numbers(start, end):\n",
    "    \"\"\"Print the squares of all even numbers within the given range.\"\"\"\n",
    "    for number in range(start, end + 1):\n",
    "        if number % 2 == 0:\n",
    "            print(f\"The square of {number} is {number ** 2}\")\n",
    "\n",
    "# Define the range\n",
    "start_range = 100\n",
    "end_range = 200\n",
    "\n",
    "# Call the function to print the squares of even numbers in the specified range\n",
    "print_squares_of_even_numbers(start_range, end_range)"
   ]
  },
  {
   "cell_type": "markdown",
   "id": "553dbf6d",
   "metadata": {},
   "source": [
    "# Exercise 4: Word counter"
   ]
  },
  {
   "cell_type": "markdown",
   "id": "76598359",
   "metadata": {},
   "source": [
    "write a program to count the number of words in a given text."
   ]
  },
  {
   "cell_type": "code",
   "execution_count": 12,
   "id": "b542f010",
   "metadata": {},
   "outputs": [
    {
     "name": "stdout",
     "output_type": "stream",
     "text": [
      "Enter a text: Hi I am a python student\n",
      "The number of words in the given text is: 6\n"
     ]
    }
   ],
   "source": [
    "def count_words(text):\n",
    "    \"\"\"Count the number of words in a given text.\"\"\"\n",
    "    # Split the text into words using whitespace as the delimiter\n",
    "    words = text.split()\n",
    "    # Return the number of words\n",
    "    return len(words)\n",
    "\n",
    "def main():\n",
    "    # Prompt the user to enter a text\n",
    "    text = input(\"Enter a text: \")\n",
    "    # Count the number of words in the text\n",
    "    word_count = count_words(text)\n",
    "    # Print the word count\n",
    "    print(f\"The number of words in the given text is: {word_count}\")\n",
    "\n",
    "if __name__ == \"__main__\":\n",
    "    main()"
   ]
  },
  {
   "cell_type": "markdown",
   "id": "b467cb28",
   "metadata": {},
   "source": [
    "# Exercise 5: Check for Palindrome"
   ]
  },
  {
   "cell_type": "markdown",
   "id": "9bdb9e1e",
   "metadata": {},
   "source": [
    "Write a Python function called is_palindrome that takes a string as input and returns True if the string is a palindrome, and False otherwise. A palindrome is a word, phrase, number, or other sequence of characters that reads the same forward and backward, ignoring spaces, punctuation, and capitalization"
   ]
  },
  {
   "cell_type": "code",
   "execution_count": 14,
   "id": "486302d7",
   "metadata": {},
   "outputs": [
    {
     "name": "stdout",
     "output_type": "stream",
     "text": [
      "Enter a string to check if it is a palindrome: racecar\n",
      "The string is a palindrome.\n"
     ]
    }
   ],
   "source": [
    "def is_palindrome(text):\n",
    "    \"\"\"Check if a given string is a palindrome.\"\"\"\n",
    "    # Remove spaces, punctuation, and convert to lowercase\n",
    "    cleaned_text = ''.join(char.lower() for char in text if char.isalnum())\n",
    "    \n",
    "    # Check if the cleaned text reads the same forward and backward\n",
    "    return cleaned_text == cleaned_text[::-1]\n",
    "\n",
    "def main():\n",
    "    # Prompt the user to enter a string\n",
    "    user_input = input(\"Enter a string to check if it is a palindrome: \")\n",
    "    \n",
    "    # Check if the user input is a palindrome\n",
    "    if is_palindrome(user_input):\n",
    "        print(\"The string is a palindrome.\")\n",
    "    else:\n",
    "        print(\"The string is not a palindrome.\")\n",
    "\n",
    "if __name__ == \"__main__\":\n",
    "    main()"
   ]
  }
 ],
 "metadata": {
  "kernelspec": {
   "display_name": "Python 3 (ipykernel)",
   "language": "python",
   "name": "python3"
  },
  "language_info": {
   "codemirror_mode": {
    "name": "ipython",
    "version": 3
   },
   "file_extension": ".py",
   "mimetype": "text/x-python",
   "name": "python",
   "nbconvert_exporter": "python",
   "pygments_lexer": "ipython3",
   "version": "3.11.5"
  }
 },
 "nbformat": 4,
 "nbformat_minor": 5
}
